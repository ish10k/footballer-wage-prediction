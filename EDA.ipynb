{
 "cells": [
  {
   "cell_type": "markdown",
   "metadata": {},
   "source": [
    "Let's start off by importing pandas so we can read the dataset into a dataframe"
   ]
  },
  {
   "cell_type": "code",
   "execution_count": null,
   "metadata": {},
   "outputs": [],
   "source": [
    "import pandas as pd"
   ]
  },
  {
   "cell_type": "markdown",
   "metadata": {},
   "source": [
    "We are going to be utilising 2 datasets\n",
    "\n",
    "1. [Football player stats (Premier League '21-'22)](https://www.kaggle.com/datasets/omkargowda/football-players-stats-premier-league-20212022/)\n",
    "2. [Football Data from Transfermarkt - player_valuation](https://www.kaggle.com/datasets/davidcariboo/player-scores?select=player_valuations.csv)"
   ]
  },
  {
   "cell_type": "code",
   "execution_count": null,
   "metadata": {},
   "outputs": [],
   "source": [
    "datasets_fp = 'datasets/'\n",
    "encoding = 'unicode_escape'\n",
    "stats_df = pd.read_csv(datasets_fp+'player_stats.csv', encoding=encoding)\n",
    "valuations_df = pd.read_csv(datasets_fp+'player_valuations.csv', encoding=encoding)"
   ]
  },
  {
   "cell_type": "markdown",
   "metadata": {},
   "source": [
    "Let's have a quick look at both dataframes"
   ]
  },
  {
   "cell_type": "code",
   "execution_count": null,
   "metadata": {},
   "outputs": [],
   "source": [
    "stats_df.head()"
   ]
  },
  {
   "cell_type": "code",
   "execution_count": null,
   "metadata": {},
   "outputs": [],
   "source": [
    "valuations_df.head()"
   ]
  },
  {
   "cell_type": "markdown",
   "metadata": {},
   "source": [
    "Let's do a quick analysis of the data using .describe() method"
   ]
  },
  {
   "cell_type": "code",
   "execution_count": null,
   "metadata": {},
   "outputs": [],
   "source": [
    "stats_df.describe()"
   ]
  },
  {
   "cell_type": "code",
   "execution_count": null,
   "metadata": {},
   "outputs": [],
   "source": [
    "valuations_df.describe()"
   ]
  },
  {
   "cell_type": "code",
   "execution_count": null,
   "metadata": {},
   "outputs": [],
   "source": [
    "# Use this maybe? - https://football-observatory.com/Inflation-in-the-football-players-transfer-market#:~:text=However%2C%20after%20having%20dropped%20sharply,90%25%20without%20considering%20conditional%20payments.\n",
    "\n",
    "\n",
    "def apply_adjust_inflation(srs: pd.DataFrame) -> pd.DataFrame:\n",
    "    averages = {}\n",
    "\n",
    "    # Loop through each fifa version\n",
    "    for version in df['fifa_version'].unique().tolist():\n",
    "        # Filter dataframe by version into new var\n",
    "        _df = df[df['fifa_version']==version]\n",
    "        # Extract average value using .mean() on column\n",
    "        avg_value = round(_df['value_eur'].mean())\n",
    "        # Save average value for version\n",
    "        averages[version] = avg_value\n",
    "        print(f'Year 20{version}')\n",
    "        print('Avg value:', avg_value)\n",
    "\n",
    "\n",
    "    adjusted_value_list = []\n",
    "    adjusted_wage_list = []\n",
    "    # Loop through each row\n",
    "    for i, row in df.iterrows():\n",
    "        # Get version number\n",
    "        version = row['fifa_version']\n",
    "        # Adjust value by calculated inflation ratios\n",
    "        adjusted_value = row['value_eur'] * (averages[24] / averages[version])\n",
    "        # Append to list\n",
    "        adjusted_value_list.append(adjusted_value)\n",
    "    # Create new column from list of adjusted values\n",
    "    df['value_eur_adj'] = adjusted_value_list\n",
    "\n",
    "    return df"
   ]
  }
 ],
 "metadata": {
  "kernelspec": {
   "display_name": "base",
   "language": "python",
   "name": "python3"
  },
  "language_info": {
   "codemirror_mode": {
    "name": "ipython",
    "version": 3
   },
   "file_extension": ".py",
   "mimetype": "text/x-python",
   "name": "python",
   "nbconvert_exporter": "python",
   "pygments_lexer": "ipython3",
   "version": "3.11.5"
  }
 },
 "nbformat": 4,
 "nbformat_minor": 2
}
